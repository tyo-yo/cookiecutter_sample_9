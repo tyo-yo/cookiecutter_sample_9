{
 "cells": [
  {
   "cell_type": "code",
   "execution_count": 3,
   "id": "serious-eligibility",
   "metadata": {},
   "outputs": [
    {
     "name": "stdout",
     "output_type": "stream",
     "text": [
      "Dockerfile                      \u001b[34mexperiments\u001b[m\u001b[m\n",
      "LICENSE                         \u001b[34mnotebooks\u001b[m\u001b[m\n",
      "README.md                       poetry.lock\n",
      "app.py                          pyproject.toml\n",
      "\u001b[34mapps\u001b[m\u001b[m                            \u001b[34mscripts\u001b[m\u001b[m\n",
      "cookiecutter.json               \u001b[34mtests\u001b[m\u001b[m\n",
      "\u001b[34mdata\u001b[m\u001b[m                            \u001b[34mcookiecutter_sample_9\u001b[m\u001b[m\n"
     ]
    }
   ],
   "source": []
  },
  {
   "cell_type": "code",
   "execution_count": null,
   "id": "functioning-warning",
   "metadata": {},
   "outputs": [],
   "source": []
  }
 ],
 "metadata": {
  "kernelspec": {
   "display_name": "Python 3",
   "language": "python",
   "name": "python3"
  },
  "language_info": {
   "codemirror_mode": {
    "name": "ipython",
    "version": 3
   },
   "file_extension": ".py",
   "mimetype": "text/x-python",
   "name": "python",
   "nbconvert_exporter": "python",
   "pygments_lexer": "ipython3",
   "version": "3.7.6"
  }
 },
 "nbformat": 4,
 "nbformat_minor": 5
}
